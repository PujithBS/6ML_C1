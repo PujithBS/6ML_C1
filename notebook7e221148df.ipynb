{
 "cells": [
  {
   "cell_type": "code",
   "execution_count": 1,
   "id": "a8a55a11",
   "metadata": {
    "_cell_guid": "b1076dfc-b9ad-4769-8c92-a6c4dae69d19",
    "_uuid": "8f2839f25d086af736a60e9eeb907d3b93b6e0e5",
    "execution": {
     "iopub.execute_input": "2023-06-14T17:35:54.783661Z",
     "iopub.status.busy": "2023-06-14T17:35:54.783152Z",
     "iopub.status.idle": "2023-06-14T17:35:54.803614Z",
     "shell.execute_reply": "2023-06-14T17:35:54.802433Z"
    },
    "papermill": {
     "duration": 0.028397,
     "end_time": "2023-06-14T17:35:54.806827",
     "exception": false,
     "start_time": "2023-06-14T17:35:54.778430",
     "status": "completed"
    },
    "tags": []
   },
   "outputs": [
    {
     "name": "stdout",
     "output_type": "stream",
     "text": [
      "/kaggle/input/irisscsv/iriss.csv\n"
     ]
    }
   ],
   "source": [
    "# This Python 3 environment comes with many helpful analytics libraries installed\n",
    "# It is defined by the kaggle/python Docker image: https://github.com/kaggle/docker-python\n",
    "# For example, here's several helpful packages to load\n",
    "\n",
    "import numpy as np # linear algebra\n",
    "import pandas as pd # data processing, CSV file I/O (e.g. pd.read_csv)\n",
    "\n",
    "# Input data files are available in the read-only \"../input/\" directory\n",
    "# For example, running this (by clicking run or pressing Shift+Enter) will list all files under the input directory\n",
    "\n",
    "import os\n",
    "for dirname, _, filenames in os.walk('/kaggle/input'):\n",
    "    for filename in filenames:\n",
    "        print(os.path.join(dirname, filename))\n",
    "\n",
    "# You can write up to 20GB to the current directory (/kaggle/working/) that gets preserved as output when you create a version using \"Save & Run All\" \n",
    "# You can also write temporary files to /kaggle/temp/, but they won't be saved outside of the current session"
   ]
  },
  {
   "cell_type": "code",
   "execution_count": 2,
   "id": "584f444d",
   "metadata": {
    "execution": {
     "iopub.execute_input": "2023-06-14T17:35:54.814371Z",
     "iopub.status.busy": "2023-06-14T17:35:54.813688Z",
     "iopub.status.idle": "2023-06-14T17:35:54.817840Z",
     "shell.execute_reply": "2023-06-14T17:35:54.816877Z"
    },
    "papermill": {
     "duration": 0.01036,
     "end_time": "2023-06-14T17:35:54.820005",
     "exception": false,
     "start_time": "2023-06-14T17:35:54.809645",
     "status": "completed"
    },
    "tags": []
   },
   "outputs": [],
   "source": [
    "import csv\n",
    "import math"
   ]
  },
  {
   "cell_type": "code",
   "execution_count": 3,
   "id": "2d9524d9",
   "metadata": {
    "execution": {
     "iopub.execute_input": "2023-06-14T17:35:54.826272Z",
     "iopub.status.busy": "2023-06-14T17:35:54.825410Z",
     "iopub.status.idle": "2023-06-14T17:35:54.856164Z",
     "shell.execute_reply": "2023-06-14T17:35:54.853822Z"
    },
    "papermill": {
     "duration": 0.036758,
     "end_time": "2023-06-14T17:35:54.858893",
     "exception": false,
     "start_time": "2023-06-14T17:35:54.822135",
     "status": "completed"
    },
    "tags": []
   },
   "outputs": [
    {
     "name": "stdout",
     "output_type": "stream",
     "text": [
      "Expected: setosa Predicted: setosa\n",
      "Expected: setosa Predicted: setosa\n",
      "Expected: virginica Predicted: virginica\n",
      "Expected: virginica Predicted: virginica\n",
      "Expected: virginica Predicted: virginica\n",
      "Expected: setosa Predicted: setosa\n",
      "Expected: versicolor Predicted: versicolor\n",
      "Expected: versicolor Predicted: versicolor\n",
      "Expected: setosa Predicted: setosa\n",
      "Expected: setosa Predicted: setosa\n",
      "Expected: versicolor Predicted: versicolor\n",
      "Expected: versicolor Predicted: versicolor\n",
      "Expected: versicolor Predicted: versicolor\n",
      "Expected: versicolor Predicted: versicolor\n",
      "Expected: versicolor Predicted: versicolor\n",
      "Expected: versicolor Predicted: versicolor\n",
      "Expected: virginica Predicted: virginica\n",
      "Expected: virginica Predicted: virginica\n",
      "Expected: virginica Predicted: virginica\n",
      "Expected: setosa Predicted: setosa\n",
      "Expected: virginica Predicted: virginica\n",
      "Expected: setosa Predicted: setosa\n",
      "Expected: versicolor Predicted: versicolor\n",
      "Expected: versicolor Predicted: versicolor\n",
      "Expected: virginica Predicted: virginica\n",
      "Expected: virginica Predicted: virginica\n",
      "Expected: versicolor Predicted: versicolor\n",
      "Expected: virginica Predicted: virginica\n",
      "Expected: setosa Predicted: setosa\n",
      "Expected: setosa Predicted: setosa\n",
      "Expected: versicolor Predicted: versicolor\n",
      "Expected: versicolor Predicted: versicolor\n",
      "Expected: setosa Predicted: setosa\n",
      "Expected: virginica Predicted: virginica\n",
      "Expected: setosa Predicted: setosa\n",
      "Expected: setosa Predicted: setosa\n",
      "Expected: setosa Predicted: setosa\n",
      "Expected: setosa Predicted: setosa\n",
      "Expected: setosa Predicted: setosa\n",
      "Expected: setosa Predicted: setosa\n",
      "Expected: virginica Predicted: virginica\n",
      "Expected: versicolor Predicted: versicolor\n",
      "Expected: versicolor Predicted: versicolor\n",
      "Expected: versicolor Predicted: versicolor\n",
      "Expected: versicolor Predicted: versicolor\n",
      "Accuracy: 100.0\n"
     ]
    }
   ],
   "source": [
    "# Function to load the dataset from a CSV file\n",
    "def load_dataset(filename):\n",
    "    dataset = []\n",
    "    with open(filename, 'r') as file:\n",
    "        csv_reader = csv.reader(file)\n",
    "        for row in csv_reader:\n",
    "            if not row:\n",
    "                continue\n",
    "            dataset.append(row)\n",
    "    return dataset\n",
    "\n",
    "# Function to convert string columns to float\n",
    "def str_column_to_float(dataset, column):\n",
    "    for row in dataset:\n",
    "        row[column] = float(row[column].strip())\n",
    "\n",
    "# Function to calculate the Euclidean distance between two data points\n",
    "def euclidean_distance(instance1, instance2, length):\n",
    "    distance = 0\n",
    "    for i in range(length):\n",
    "        distance += pow((instance1[i] - instance2[i]), 2)\n",
    "    return math.sqrt(distance)\n",
    "\n",
    "# Function to find k nearest neighbors\n",
    "def get_neighbors(train_set, test_instance, k):\n",
    "    distances = []\n",
    "    length = len(test_instance) - 1\n",
    "    for train_instance in train_set:\n",
    "        dist = euclidean_distance(test_instance, train_instance, length)\n",
    "        distances.append((train_instance, dist))\n",
    "    distances.sort(key=lambda x: x[1])\n",
    "    neighbors = []\n",
    "    for i in range(k):\n",
    "        neighbors.append(distances[i][0])\n",
    "    return neighbors\n",
    "# Function to predict the class label for a test instance\n",
    "def predict_class(neighbors):\n",
    "    class_votes = {}\n",
    "    for neighbor in neighbors:\n",
    "        class_label = neighbor[-1]\n",
    "        if class_label in class_votes:\n",
    "            class_votes[class_label] += 1\n",
    "        else:\n",
    "            class_votes[class_label] = 1\n",
    "    sorted_votes = sorted(class_votes.items(), key=lambda x: x[1], reverse=True)\n",
    "    return sorted_votes[0][0]\n",
    "\n",
    "# Function to evaluate the accuracy of predictions\n",
    "def get_accuracy(test_set, predictions):\n",
    "    correct = 0\n",
    "    for i in range(len(test_set)):\n",
    "        if test_set[i][-1] == predictions[i]:\n",
    "            correct += 1\n",
    "    return (correct / float(len(test_set))) * 100.0\n",
    "\n",
    "# Load the dataset\n",
    "dataset = load_dataset('/kaggle/input/irisscsv/iriss.csv')\n",
    "\n",
    "# Convert string columns to float\n",
    "for i in range(4):\n",
    "    str_column_to_float(dataset, i)\n",
    "\n",
    "# Split the dataset into training and testing sets\n",
    "split_ratio = 0.7\n",
    "train_size = int(len(dataset) * split_ratio)\n",
    "train_set = dataset[:train_size]\n",
    "test_set = dataset[train_size:]\n",
    "\n",
    "# Make predictions\n",
    "k = 3\n",
    "predictions = []\n",
    "for test_instance in test_set:\n",
    "    neighbors = get_neighbors(train_set, test_instance, k)\n",
    "    predicted_class = predict_class(neighbors)\n",
    "    predictions.append(predicted_class)\n",
    "    print('Expected:', test_instance[-1], 'Predicted:', predicted_class)\n",
    "\n",
    "# Calculate accuracy\n",
    "accuracy = get_accuracy(test_set, predictions)\n",
    "print('Accuracy:', accuracy)"
   ]
  }
 ],
 "metadata": {
  "kernelspec": {
   "display_name": "Python 3",
   "language": "python",
   "name": "python3"
  },
  "language_info": {
   "codemirror_mode": {
    "name": "ipython",
    "version": 3
   },
   "file_extension": ".py",
   "mimetype": "text/x-python",
   "name": "python",
   "nbconvert_exporter": "python",
   "pygments_lexer": "ipython3",
   "version": "3.10.10"
  },
  "papermill": {
   "default_parameters": {},
   "duration": 11.242005,
   "end_time": "2023-06-14T17:35:55.684253",
   "environment_variables": {},
   "exception": null,
   "input_path": "__notebook__.ipynb",
   "output_path": "__notebook__.ipynb",
   "parameters": {},
   "start_time": "2023-06-14T17:35:44.442248",
   "version": "2.4.0"
  }
 },
 "nbformat": 4,
 "nbformat_minor": 5
}
